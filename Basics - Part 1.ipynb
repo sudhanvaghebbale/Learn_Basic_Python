{
 "cells": [
  {
   "cell_type": "markdown",
   "metadata": {},
   "source": [
    "# Basics"
   ]
  },
  {
   "cell_type": "markdown",
   "metadata": {},
   "source": [
    "Types of Control Structures:\n",
    "1. Sequential\n",
    "2. Selection\n",
    "3. Iteration"
   ]
  },
  {
   "cell_type": "markdown",
   "metadata": {},
   "source": [
    "Python and JavaScript -> Interpreted\n",
    "\n",
    "Go -> Compiled"
   ]
  },
  {
   "cell_type": "markdown",
   "metadata": {},
   "source": [
    "Datatypes:\n",
    "1. int\n",
    "2. long\n",
    "3. complex\n",
    "4. float\n",
    "5. String\n",
    "6. boolean"
   ]
  },
  {
   "cell_type": "markdown",
   "metadata": {},
   "source": [
    "Python -> Dynamically Typed\n"
   ]
  },
  {
   "cell_type": "markdown",
   "metadata": {},
   "source": [
    "In Python, you can find out the data type of a variable by writing type(variable_name)"
   ]
  },
  {
   "cell_type": "markdown",
   "metadata": {},
   "source": [
    "Variable has:\n",
    "1. Name\n",
    "2. Datatype\n",
    "3. Address\n",
    "4. Value\n",
    "5. Lifetime\n",
    "6. Scope"
   ]
  },
  {
   "cell_type": "markdown",
   "metadata": {},
   "source": [
    "Escape sequence is a sequence of characters that have special meaning when enclosed in a string. It always begins with a backslash(\\)."
   ]
  },
  {
   "cell_type": "markdown",
   "metadata": {},
   "source": [
    "# Use two prints together."
   ]
  },
  {
   "cell_type": "code",
   "execution_count": 1,
   "metadata": {},
   "outputs": [
    {
     "name": "stdout",
     "output_type": "stream",
     "text": [
      "Did you see I start here and I end in the same line although from a different print?\n"
     ]
    }
   ],
   "source": [
    "print(\"Did you see I start here\", end=\" \")\n",
    "print(\"and I end in the same line although from a different print?\")"
   ]
  },
  {
   "cell_type": "code",
   "execution_count": 2,
   "metadata": {},
   "outputs": [
    {
     "data": {
      "text/plain": [
       "20"
      ]
     },
     "execution_count": 2,
     "metadata": {},
     "output_type": "execute_result"
    }
   ],
   "source": [
    "#Short Circuiting\n",
    "num = 10\n",
    "num *= 2 # Same as num = num * 2\n",
    "num "
   ]
  },
  {
   "cell_type": "markdown",
   "metadata": {},
   "source": [
    "Python DOES NOT support implicit conversions!\n",
    "num = 10 + \"20\""
   ]
  },
  {
   "cell_type": "markdown",
   "metadata": {},
   "source": [
    "Function Signature -> def function_name(data1,data2):"
   ]
  },
  {
   "cell_type": "markdown",
   "metadata": {},
   "source": [
    "For example, in python, value zero is considered to be equivalent to false.\n",
    "\n",
    "Common false values:\n",
    "1. None\n",
    "2. \"\"\n",
    "3. 0\n",
    "4. False\n",
    "5. \"/\""
   ]
  },
  {
   "cell_type": "markdown",
   "metadata": {},
   "source": [
    "# Boundary Value Analysis"
   ]
  },
  {
   "cell_type": "markdown",
   "metadata": {},
   "source": [
    "In that case we should test the boundaries by considering values\n",
    "\n",
    "- on the boundary,\n",
    "\n",
    "- one above the boundary and\n",
    "\n",
    "- one below the boundary"
   ]
  },
  {
   "cell_type": "markdown",
   "metadata": {},
   "source": [
    "range(x,y,step). It creates a sequence from x to y-1 with a difference of step between each value. "
   ]
  },
  {
   "cell_type": "code",
   "execution_count": 4,
   "metadata": {},
   "outputs": [
    {
     "name": "stdout",
     "output_type": "stream",
     "text": [
      "The current number is  1\n",
      "The current number is  3\n",
      "The current number is  5\n",
      "The current number is  7\n",
      "The current number is  9\n"
     ]
    }
   ],
   "source": [
    "start=1\n",
    "end=10\n",
    "step=2 # Default is 1\n",
    "for number in range (start, end, step):\n",
    "    print(\"The current number is \", number)"
   ]
  },
  {
   "cell_type": "markdown",
   "metadata": {},
   "source": [
    "# List"
   ]
  },
  {
   "cell_type": "markdown",
   "metadata": {},
   "source": [
    "The list index starts from zero. It’s like having seat numbers starting from 0!"
   ]
  },
  {
   "cell_type": "markdown",
   "metadata": {},
   "source": [
    "In case of having different variables for each ticket number, variables will be stored in separate memory locations. Whereas in case of list, the elements will be stored in contiguous memory locations.\n"
   ]
  },
  {
   "cell_type": "markdown",
   "metadata": {},
   "source": [
    "ticket_list[3]=13504 -> Directly modify an element in the list."
   ]
  },
  {
   "cell_type": "markdown",
   "metadata": {},
   "source": [
    "Result in index out of bound error."
   ]
  },
  {
   "cell_type": "code",
   "execution_count": null,
   "metadata": {},
   "outputs": [],
   "source": [
    "Creating an empty list -> sample_list=[]"
   ]
  },
  {
   "cell_type": "code",
   "execution_count": null,
   "metadata": {},
   "outputs": [],
   "source": [
    "Creating a list with known size and unknown elements -> sample_list=[None]*5"
   ]
  },
  {
   "cell_type": "code",
   "execution_count": null,
   "metadata": {},
   "outputs": [],
   "source": [
    "Length of the list -> len(sample_list)"
   ]
  },
  {
   "cell_type": "code",
   "execution_count": null,
   "metadata": {},
   "outputs": [],
   "source": [
    "Adding an element to the end of the list -> sample_list.append(\"James\")"
   ]
  },
  {
   "cell_type": "code",
   "execution_count": null,
   "metadata": {},
   "outputs": [],
   "source": [
    "Concatenating two lists:\n",
    "new_list=[\"Henry\",\"Tim\"] \n",
    "sample_list+=new_list\n",
    "sample_list=sample_list+new_list"
   ]
  },
  {
   "cell_type": "code",
   "execution_count": null,
   "metadata": {},
   "outputs": [],
   "source": [
    "List Slicing\n",
    "\n",
    "sublist = list[1:4]\n",
    "\n",
    "# above line provides a sub list from index position 1 to 3 (i.e., 1 to (4-1)). "
   ]
  },
  {
   "cell_type": "code",
   "execution_count": null,
   "metadata": {},
   "outputs": [],
   "source": [
    "Indices may also be considered negative as shown above. This is normally used to count from right.\n",
    "\n",
    "We can write list_of_airlines[-2]. \n",
    "\n",
    "Negative indices can also be used for slicing.\n",
    "\n",
    "list_of_airlines[-4:-1] will give us the same output as list_of_airlines[1:4]"
   ]
  },
  {
   "cell_type": "markdown",
   "metadata": {},
   "source": [
    "# Tuple"
   ]
  },
  {
   "cell_type": "markdown",
   "metadata": {},
   "source": [
    "Like list, tuple can also store a sequence of elements but the value of the elements cannot be changed. \n",
    "\n",
    "(i.e. tuples are IMMUTABLE). \n",
    "\n",
    "Elements can be homogeneous or heterogeneous but they are READ-ONLY."
   ]
  },
  {
   "cell_type": "code",
   "execution_count": null,
   "metadata": {},
   "outputs": [],
   "source": [
    "Creating a tuple\n",
    "\n",
    "lunch_menu=(\"Welcome Drink\",\"Veg Starter\",\"Non-Veg Starter\",\"Veg Main Course\",\"Non-Veg Main Course\",\"Dessert\")\n",
    "\n",
    "() are optional, a set of values separated by comma is also considered to be a tuple.\n",
    "\n",
    "If we need to create a tuple with a single element, then we need to include a comma as shown below:\n",
    "sample_tuple=(\"A\",)"
   ]
  },
  {
   "cell_type": "code",
   "execution_count": 7,
   "metadata": {},
   "outputs": [
    {
     "ename": "TypeError",
     "evalue": "'tuple' object does not support item assignment",
     "output_type": "error",
     "traceback": [
      "\u001b[0;31m---------------------------------------------------------------------------\u001b[0m",
      "\u001b[0;31mTypeError\u001b[0m                                 Traceback (most recent call last)",
      "\u001b[0;32m<ipython-input-7-9f637e563254>\u001b[0m in \u001b[0;36m<module>\u001b[0;34m\u001b[0m\n\u001b[1;32m      1\u001b[0m \u001b[0mlunch_menu\u001b[0m\u001b[0;34m=\u001b[0m\u001b[0;34m(\u001b[0m\u001b[0;34m\"Welcome Drink\"\u001b[0m\u001b[0;34m,\u001b[0m\u001b[0;34m\"Veg Starter\"\u001b[0m\u001b[0;34m,\u001b[0m\u001b[0;34m\"Non-Veg Starter\"\u001b[0m\u001b[0;34m,\u001b[0m\u001b[0;34m\"Veg Main Course\"\u001b[0m\u001b[0;34m,\u001b[0m\u001b[0;34m\"Non-Veg Main Course\"\u001b[0m\u001b[0;34m,\u001b[0m\u001b[0;34m\"Dessert\"\u001b[0m\u001b[0;34m)\u001b[0m\u001b[0;34m\u001b[0m\u001b[0;34m\u001b[0m\u001b[0m\n\u001b[0;32m----> 2\u001b[0;31m \u001b[0mlunch_menu\u001b[0m\u001b[0;34m[\u001b[0m\u001b[0;36m0\u001b[0m\u001b[0;34m]\u001b[0m\u001b[0;34m=\u001b[0m\u001b[0;34m\"\"\u001b[0m\u001b[0;34m\u001b[0m\u001b[0;34m\u001b[0m\u001b[0m\n\u001b[0m",
      "\u001b[0;31mTypeError\u001b[0m: 'tuple' object does not support item assignment"
     ]
    }
   ],
   "source": [
    "lunch_menu=(\"Welcome Drink\",\"Veg Starter\",\"Non-Veg Starter\",\"Veg Main Course\",\"Non-Veg Main Course\",\"Dessert\")\n",
    "lunch_menu[0]=\"Hello\""
   ]
  },
  {
   "cell_type": "markdown",
   "metadata": {},
   "source": [
    "# Pytest"
   ]
  },
  {
   "cell_type": "markdown",
   "metadata": {},
   "source": [
    "Pytest can be used to write test cases and automatically test a program."
   ]
  },
  {
   "cell_type": "code",
   "execution_count": 3,
   "metadata": {},
   "outputs": [],
   "source": [
    "import pytest\n",
    "def boarding():\n",
    "    result = 1\n",
    "    assert result == -1\n",
    "# Assert statement check if the values match. If yes, the code is executed, else it fails!"
   ]
  },
  {
   "cell_type": "markdown",
   "metadata": {},
   "source": [
    "# Strings"
   ]
  },
  {
   "cell_type": "markdown",
   "metadata": {},
   "source": [
    "But like tuple, strings are also IMMUTABLE."
   ]
  },
  {
   "cell_type": "markdown",
   "metadata": {},
   "source": [
    "# Sets"
   ]
  },
  {
   "cell_type": "markdown",
   "metadata": {},
   "source": [
    "A set is an unordered group of values with no duplicate entries. \n",
    "\n",
    "Set can be created by using the keyword set or by using curly braces {}. \n",
    "\n",
    "set function is used to eliminate duplicate values in a list.\n"
   ]
  },
  {
   "cell_type": "code",
   "execution_count": 5,
   "metadata": {},
   "outputs": [],
   "source": [
    "#Creating a set\n",
    "flight_set={500,520,600,345,520,634,600,500,200,200}"
   ]
  },
  {
   "cell_type": "code",
   "execution_count": 6,
   "metadata": {},
   "outputs": [
    {
     "data": {
      "text/plain": [
       "{'Annie', 'George', 'Helen', 'Henry', 'Jack', 'Maria', 'Remo'}"
      ]
     },
     "execution_count": 6,
     "metadata": {},
     "output_type": "execute_result"
    }
   ],
   "source": [
    "# Eliminating duplicates from a list\n",
    "passengers_list=[\"George\", \"Annie\", \"Jack\", \"Annie\", \"Henry\", \"Helen\", \"Maria\", \"George\", \"Jack\", \"Remo\"]\n",
    "unique_passengers=set(passengers_list)\n",
    "unique_passengers"
   ]
  },
  {
   "cell_type": "code",
   "execution_count": null,
   "metadata": {},
   "outputs": [],
   "source": [
    "#Common elements between setA and setB\n",
    "setA & setB"
   ]
  },
  {
   "cell_type": "code",
   "execution_count": null,
   "metadata": {},
   "outputs": [],
   "source": [
    "Elements that are only in setA\n",
    "setA - setB"
   ]
  },
  {
   "cell_type": "code",
   "execution_count": null,
   "metadata": {},
   "outputs": [],
   "source": [
    "Merges elements of setA and setB\t\n",
    "setA | setB"
   ]
  },
  {
   "cell_type": "markdown",
   "metadata": {},
   "source": [
    "# Dictionary"
   ]
  },
  {
   "cell_type": "code",
   "execution_count": 7,
   "metadata": {},
   "outputs": [],
   "source": [
    "#Creating a dictionary\n",
    "crew_details={ \"Pilot\":\"Kumar\",\"Co-pilot\":\"Raghav\",\"Head-Strewardess\":\"Malini\",\"Stewardess\":\"Mala\" }"
   ]
  },
  {
   "cell_type": "code",
   "execution_count": 8,
   "metadata": {},
   "outputs": [
    {
     "data": {
      "text/plain": [
       "'Kumar'"
      ]
     },
     "execution_count": 8,
     "metadata": {},
     "output_type": "execute_result"
    }
   ],
   "source": [
    "#Accessing the value using key\t\n",
    "crew_details[\"Pilot\"]"
   ]
  },
  {
   "cell_type": "code",
   "execution_count": 9,
   "metadata": {},
   "outputs": [
    {
     "name": "stdout",
     "output_type": "stream",
     "text": [
      "Pilot : Kumar\n",
      "Co-pilot : Raghav\n",
      "Head-Strewardess : Malini\n",
      "Stewardess : Mala\n"
     ]
    }
   ],
   "source": [
    "#Iterating through the dictionary\t\n",
    "for key,value in crew_details.items():\n",
    "     print(key,\":\",value)"
   ]
  },
  {
   "cell_type": "code",
   "execution_count": null,
   "metadata": {},
   "outputs": [],
   "source": [
    "if(func(arg1)):\n",
    "    print(value)"
   ]
  },
  {
   "cell_type": "markdown",
   "metadata": {},
   "source": [
    "# Functions"
   ]
  },
  {
   "cell_type": "markdown",
   "metadata": {},
   "source": [
    "Two ways in which arguments can be passed to functions:\n",
    "1. Pass by value\n",
    "2. Pass by address"
   ]
  },
  {
   "cell_type": "code",
   "execution_count": null,
   "metadata": {},
   "outputs": [],
   "source": [
    "def func(arg1,arg2,*arg3):\n",
    "    return result\n",
    "\n",
    "res = func(val1,val2,val3,val4,val5)\n",
    "\n",
    "# Copies all the values beyond this position into a tuple"
   ]
  },
  {
   "cell_type": "markdown",
   "metadata": {},
   "source": [
    "# Different types of arguments passed to functions"
   ]
  },
  {
   "cell_type": "markdown",
   "metadata": {},
   "source": [
    "Type 1: Positional arguments"
   ]
  },
  {
   "cell_type": "code",
   "execution_count": 13,
   "metadata": {},
   "outputs": [
    {
     "name": "stdout",
     "output_type": "stream",
     "text": [
      "Flight Number: AI789\n",
      "Seating Capacity: 200\n"
     ]
    }
   ],
   "source": [
    "def display1(flight_number, seating_capacity):\n",
    "    print(\"Flight Number:\", flight_number)\n",
    "    print(\"Seating Capacity:\", seating_capacity)\n",
    "\n",
    "display1(\"AI789\",200)"
   ]
  },
  {
   "cell_type": "markdown",
   "metadata": {},
   "source": [
    "Type 2: Keyword Arguments"
   ]
  },
  {
   "cell_type": "code",
   "execution_count": 14,
   "metadata": {},
   "outputs": [
    {
     "name": "stdout",
     "output_type": "stream",
     "text": [
      "Flight Number: AI789\n",
      "Seating Capacity: 250\n"
     ]
    }
   ],
   "source": [
    "def display2(flight_number, seating_capacity):\n",
    "    print(\"Flight Number:\", flight_number)\n",
    "    print(\"Seating Capacity:\", seating_capacity)\n",
    "\n",
    "display2(seating_capacity=250, flight_number=\"AI789\")"
   ]
  },
  {
   "cell_type": "markdown",
   "metadata": {},
   "source": [
    "Type 3: Default Arguments"
   ]
  },
  {
   "cell_type": "code",
   "execution_count": 19,
   "metadata": {},
   "outputs": [
    {
     "name": "stdout",
     "output_type": "stream",
     "text": [
      "Flight Number: AI789\n",
      "Flight Make: Eagle\n",
      "Seating Capacity: 150\n"
     ]
    }
   ],
   "source": [
    "def display3(flight_number, flight_make=\"Boeing\", seating_capacity=150):\n",
    "    print(\"Flight Number:\", flight_number)\n",
    "    print(\"Flight Make:\", flight_make)\n",
    "    print(\"Seating Capacity:\", seating_capacity)\n",
    "\n",
    "display3(\"AI789\",\"Eagle\")"
   ]
  },
  {
   "cell_type": "markdown",
   "metadata": {},
   "source": [
    "Type 4: Variable no.of arguments"
   ]
  },
  {
   "cell_type": "code",
   "execution_count": 16,
   "metadata": {},
   "outputs": [
    {
     "name": "stdout",
     "output_type": "stream",
     "text": [
      "Passenger name: Jack\n",
      "Total baggage weight in kg: 25\n"
     ]
    }
   ],
   "source": [
    "def display4(passenger_name, *baggage_tuple):\n",
    "    print(\"Passenger name:\",passenger_name)\n",
    "    total_wt=0\n",
    "    for baggage_wt in baggage_tuple:\n",
    "        total_wt+=baggage_wt\n",
    "    print(\"Total baggage weight in kg:\", total_wt)\n",
    "\n",
    "display4(\"Jack\",12,8,5)"
   ]
  },
  {
   "cell_type": "markdown",
   "metadata": {},
   "source": [
    "# Variables and its scope"
   ]
  },
  {
   "cell_type": "markdown",
   "metadata": {},
   "source": [
    "Variables types:\n",
    "1. Local\n",
    "2. Global"
   ]
  },
  {
   "cell_type": "markdown",
   "metadata": {},
   "source": [
    "Global Variable -> Cannot be modified inside a function!\n",
    "\n",
    "Can be changed by using global keyword."
   ]
  },
  {
   "cell_type": "markdown",
   "metadata": {},
   "source": [
    "# Exception Handling"
   ]
  },
  {
   "cell_type": "markdown",
   "metadata": {},
   "source": [
    "Common built-in exceptions:\n",
    "1. ZeroDivision Error\n",
    "2. TypeError\n",
    "3. NameError\n",
    "4. IndexError\n",
    "5. ValueError"
   ]
  },
  {
   "cell_type": "markdown",
   "metadata": {},
   "source": [
    "# Packages and Modules"
   ]
  },
  {
   "cell_type": "markdown",
   "metadata": {},
   "source": [
    "Packages contains multiple modules\n",
    "\n",
    "Modules -> Just a normal .py file\n",
    "\n",
    "Package -> Empty folder with __init__.py file"
   ]
  }
 ],
 "metadata": {
  "kernelspec": {
   "display_name": "Python 3",
   "language": "python",
   "name": "python3"
  },
  "language_info": {
   "codemirror_mode": {
    "name": "ipython",
    "version": 3
   },
   "file_extension": ".py",
   "mimetype": "text/x-python",
   "name": "python",
   "nbconvert_exporter": "python",
   "pygments_lexer": "ipython3",
   "version": "3.7.6"
  }
 },
 "nbformat": 4,
 "nbformat_minor": 2
}
